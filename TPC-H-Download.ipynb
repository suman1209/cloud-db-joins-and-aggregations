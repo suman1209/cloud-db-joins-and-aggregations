{
 "cells": [
  {
   "cell_type": "code",
   "execution_count": 1,
   "metadata": {},
   "outputs": [
    {
     "name": "stdout",
     "output_type": "stream",
     "text": [
      "Downloaded tpch/sf-1/lineitem.csv\n",
      "Downloaded tpch/sf-1/part.csv\n",
      "tpch/sf-1/lineitem.csv already exists.\n",
      "tpch/sf-1/part.csv already exists.\n"
     ]
    }
   ],
   "source": [
    "import os\n",
    "import boto3\n",
    "import botocore\n",
    "import numpy as np\n",
    "import pandas as pd\n",
    "\n",
    "bucket_name = 'alex-datasets'\n",
    "prefix = 'tpch/sf-1'\n",
    "chosen_files = ['lineitem.csv', 'part.csv']\n",
    "\n",
    "s3 = boto3.client('s3')\n",
    "\n",
    "def download(bucket_name, key, fn):\n",
    "  try:\n",
    "    s3.download_file(bucket_name, key, fn)\n",
    "    print(f'Downloaded {fn}')\n",
    "  except botocore.exceptions.ClientError as e:\n",
    "    if e.response['Error']['Code'] == '404':\n",
    "      print(f'Object {key} does not exist!')\n",
    "    else:\n",
    "      raise\n",
    "\n",
    "# List objects in the specified bucket and prefix\n",
    "response = s3.list_objects_v2(Bucket=bucket_name, Prefix=prefix)\n",
    "\n",
    "# Create directory if it doesn't exist\n",
    "if not os.path.exists(prefix):\n",
    "  os.makedirs(prefix)\n",
    "\n",
    "for obj in response.get('Contents', []):\n",
    "  key = obj['Key']\n",
    "\n",
    "  # Ensure we only read the `chosen_file`.\n",
    "  if key.split('/')[-1] not in chosen_files:\n",
    "    continue\n",
    "  filename = os.path.join(prefix, key.split('/')[-1])\n",
    "\n",
    "  if not os.path.exists(filename):\n",
    "    download(bucket_name, key, filename)\n",
    "  else:\n",
    "    print(f'{filename} already exists.')"
   ]
  }
 ],
 "metadata": {
  "kernelspec": {
   "display_name": "Python 3",
   "language": "python",
   "name": "python3"
  },
  "language_info": {
   "codemirror_mode": {
    "name": "ipython",
    "version": 3
   },
   "file_extension": ".py",
   "mimetype": "text/x-python",
   "name": "python",
   "nbconvert_exporter": "python",
   "pygments_lexer": "ipython3",
   "version": "3.9.6"
  }
 },
 "nbformat": 4,
 "nbformat_minor": 2
}
