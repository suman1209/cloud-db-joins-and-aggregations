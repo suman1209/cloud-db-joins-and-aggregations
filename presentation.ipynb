{
 "cells": [
  {
   "cell_type": "markdown",
   "id": "1ee55d22",
   "metadata": {
    "slideshow": {
     "slide_type": "slide"
    }
   },
   "source": [
    "# Unit 4 -  Joins & Aggregation  "
   ]
  },
  {
   "cell_type": "markdown",
   "id": "f41bb6e0",
   "metadata": {
    "slideshow": {
     "slide_type": "slide"
    }
   },
   "source": [
    "## Aggregation\n",
    "Count and Avg Aggregations using DMV dataset"
   ]
  },
  {
   "cell_type": "markdown",
   "id": "a31e60f4",
   "metadata": {
    "slideshow": {
     "slide_type": "slide"
    }
   },
   "source": [
    "### Method 1 - Naive Method\n",
    "\n",
    "Increment the counts corresponding to fuel_type and passengers. So memory complexity = O(num_unique_fuel_types)\n",
    "\n",
    "\n",
    "\n",
    "\n",
    "\n",
    "\n"
   ]
  },
  {
   "cell_type": "markdown",
   "id": "06c6c71d",
   "metadata": {
    "slideshow": {
     "slide_type": "slide"
    }
   },
   "source": [
    "### Method2 - Naive Method version 2"
   ]
  },
  {
   "cell_type": "markdown",
   "id": "7ca65518",
   "metadata": {
    "slideshow": {
     "slide_type": "slide"
    }
   },
   "source": [
    "### Method 3 - Multi-Core Approach\n",
    "\n",
    "Process the dataframe partitions in parallel and merge the final results"
   ]
  },
  {
   "cell_type": "markdown",
   "id": "5cbc85e7",
   "metadata": {
    "slideshow": {
     "slide_type": "slide"
    }
   },
   "source": [
    "## Summary"
   ]
  },
  {
   "cell_type": "code",
   "execution_count": 11,
   "id": "575e8027",
   "metadata": {
    "slideshow": {
     "slide_type": "fragment"
    }
   },
   "outputs": [
    {
     "name": "stdout",
     "output_type": "stream",
     "text": [
      "Evaluating: group_duckdb/aggregation.py\n",
      "Result: 0.3442831039428711\n",
      "Evaluating: group_suman_mike_multicore/aggregation.py\n",
      "Result: 1.313033103942871\n",
      "Evaluating: group_suman_mike_naive/aggregation.py\n",
      "Result: 13.31340765953064\n",
      "Evaluating: group_suman_mike_naive_v2/aggregation.py\n",
      "Result: 3.398801565170288\n",
      "  Rank  Group                         Time (seconds)\n",
      "------  --------------------------  ----------------\n",
      "     1  group_duckdb                        0.344283\n",
      "     2  group_suman_mike_multicore          1.31303\n",
      "     3  group_suman_mike_naive_v2           3.3988\n",
      "     4  group_suman_mike_naive             13.3134\n"
     ]
    }
   ],
   "source": [
    "!python3 gather_results.py aggregation `ls -d group_*`"
   ]
  },
  {
   "cell_type": "markdown",
   "id": "3e840c28",
   "metadata": {
    "slideshow": {
     "slide_type": "slide"
    }
   },
   "source": [
    "## Lessons Learnt"
   ]
  },
  {
   "cell_type": "markdown",
   "id": "f23924a8",
   "metadata": {
    "slideshow": {
     "slide_type": "fragment"
    }
   },
   "source": [
    "### 1. Iterating through a nested array is very time consuming"
   ]
  },
  {
   "cell_type": "code",
   "execution_count": 10,
   "id": "2c9aa2aa",
   "metadata": {
    "slideshow": {
     "slide_type": "fragment"
    }
   },
   "outputs": [
    {
     "name": "stdout",
     "output_type": "stream",
     "text": [
      "time taken for iterating through a nested array:  7.933137655258179\n",
      "time taken for iterating through a linear array:  0.3314781188964844\n"
     ]
    }
   ],
   "source": [
    "import pandas as pd\n",
    "import time\n",
    "df = pd.read_csv(\"dmv_fuel_type_passengers.csv\")\n",
    "df_array = df.to_numpy() # e.g [['ELECTRIC', 0], ['GAS', 1], ['DIESEL', 2]]\n",
    "st_time = time.time()\n",
    "\n",
    "for fuel_type, passenger_count in df_array:\n",
    "    pass\n",
    "print(f\"time taken for iterating through a nested array: \", time.time() - st_time)\n",
    "      \n",
    "st_time2 = time.time()\n",
    "for fuel_type in df_array[:, 0]:\n",
    "    pass\n",
    "print(f\"time taken for iterating through a linear array: \", time.time() - st_time2)"
   ]
  },
  {
   "cell_type": "markdown",
   "id": "2334db4e",
   "metadata": {
    "slideshow": {
     "slide_type": "fragment"
    }
   },
   "source": [
    "### 2. nan values in python should be dealt with care"
   ]
  },
  {
   "cell_type": "code",
   "execution_count": 23,
   "id": "8550de32",
   "metadata": {
    "slideshow": {
     "slide_type": "fragment"
    }
   },
   "outputs": [
    {
     "name": "stdout",
     "output_type": "stream",
     "text": [
      "<class 'float'> <class 'float'> <class 'float'>\n",
      "False\n",
      "True\n",
      "True\n"
     ]
    }
   ],
   "source": [
    "import math\n",
    "import numpy as np\n",
    "x = float('nan')\n",
    "y = math.nan\n",
    "z = np.nan\n",
    "print(type(x), type(y), type(z))\n",
    "\n",
    "print(x == y)\n",
    "print(math.isnan(z))\n",
    "print(np.isnan(x))"
   ]
  },
  {
   "cell_type": "markdown",
   "id": "3d539a51",
   "metadata": {
    "slideshow": {
     "slide_type": "slide"
    }
   },
   "source": [
    "## Joins\n",
    "Count and Avg Aggregations using DMV dataset"
   ]
  },
  {
   "cell_type": "code",
   "execution_count": null,
   "id": "0db36bb8",
   "metadata": {},
   "outputs": [],
   "source": []
  }
 ],
 "metadata": {
  "celltoolbar": "Slideshow",
  "kernelspec": {
   "display_name": "Python 3 (ipykernel)",
   "language": "python",
   "name": "python3"
  },
  "language_info": {
   "codemirror_mode": {
    "name": "ipython",
    "version": 3
   },
   "file_extension": ".py",
   "mimetype": "text/x-python",
   "name": "python",
   "nbconvert_exporter": "python",
   "pygments_lexer": "ipython3",
   "version": "3.9.12"
  },
  "vscode": {
   "interpreter": {
    "hash": "de5b31044833cea9ee377c5b8455b5e41e391cda0b415044581a804fd2c5baa8"
   }
  },
  "widgets": {
   "application/vnd.jupyter.widget-state+json": {
    "state": {},
    "version_major": 1,
    "version_minor": 0
   }
  }
 },
 "nbformat": 4,
 "nbformat_minor": 5
}
