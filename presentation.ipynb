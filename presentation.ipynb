{
 "cells": [
  {
   "cell_type": "markdown",
   "id": "1ee55d22",
   "metadata": {
    "slideshow": {
     "slide_type": "slide"
    }
   },
   "source": [
    "# Unit 4 -  Joins & Aggregation  "
   ]
  },
  {
   "cell_type": "markdown",
   "id": "f41bb6e0",
   "metadata": {
    "slideshow": {
     "slide_type": "slide"
    }
   },
   "source": [
    "## Agregations\n",
    "Count and Avg Aggregations using DMV dataset"
   ]
  },
  {
   "cell_type": "markdown",
   "id": "a31e60f4",
   "metadata": {
    "slideshow": {
     "slide_type": "slide"
    }
   },
   "source": [
    "1. Method 1 - Naive Method\n",
    "\n",
    "    ##### increment the counts corresponding to fuel_type and passengers. So memory complexity = O(num_unique_fuel_types)"
   ]
  },
  {
   "cell_type": "code",
   "execution_count": null,
   "id": "5b17daf1",
   "metadata": {},
   "outputs": [],
   "source": [
    " 2. Method2 - Naive Method version 2\n",
    "   It takes only 0.85sec to loop through and find the unique values"
   ]
  },
  {
   "cell_type": "markdown",
   "id": "7ca65518",
   "metadata": {
    "slideshow": {
     "slide_type": "slide"
    }
   },
   "source": [
    "2. Method 2 - Multi-Core Approach"
   ]
  },
  {
   "cell_type": "markdown",
   "id": "5cbc85e7",
   "metadata": {
    "slideshow": {
     "slide_type": "slide"
    }
   },
   "source": [
    "## Summary"
   ]
  },
  {
   "cell_type": "code",
   "execution_count": 2,
   "id": "575e8027",
   "metadata": {
    "slideshow": {
     "slide_type": "fragment"
    }
   },
   "outputs": [
    {
     "name": "stdout",
     "output_type": "stream",
     "text": [
      "Evaluating: group_duckdb/aggregation.py\n",
      "Result: 0.35705113410949707\n",
      "Evaluating: group_suman_mike_naive/aggregation.py\n",
      "Result: 13.597444772720337\n",
      "  Rank  Group                     Time (seconds)\n",
      "------  ----------------------  ----------------\n",
      "     1  group_duckdb                    0.357051\n",
      "     2  group_suman_mike_naive         13.5974\n"
     ]
    }
   ],
   "source": [
    "!python3 gather_results.py aggregation `ls -d group_*`"
   ]
  },
  {
   "cell_type": "markdown",
   "id": "872a163f",
   "metadata": {
    "slideshow": {
     "slide_type": "fragment"
    }
   },
   "source": [
    "- Understand and visualize it"
   ]
  },
  {
   "cell_type": "markdown",
   "id": "ce1017b6",
   "metadata": {
    "slideshow": {
     "slide_type": "fragment"
    }
   },
   "source": [
    "- Present your results to your peers in the form of an _interactive_ presentation."
   ]
  },
  {
   "cell_type": "markdown",
   "id": "bb8d0426",
   "metadata": {
    "slideshow": {
     "slide_type": "slide"
    }
   },
   "source": [
    "## Jupyter Slideshows\n",
    "- Jupyter notebooks can be converted into slideshows\n",
    "- Cells define the appearance structure\n",
    "- Markdown defines the content (text, images, tables, code), HTML can be used for more advanced layouts\n",
    "- Code can be used to create plots or _live code execution_"
   ]
  },
  {
   "cell_type": "markdown",
   "id": "6acec5be",
   "metadata": {
    "slideshow": {
     "slide_type": "fragment"
    }
   },
   "source": [
    "- Two types of slide shows:\n",
    "    - Static HTML slides with [reveal.js](https://revealjs.com/)\n",
    "    - Dynamic with live code execution using the `rise` extension"
   ]
  },
  {
   "cell_type": "markdown",
   "id": "ffe16ee4",
   "metadata": {
    "slideshow": {
     "slide_type": "slide"
    }
   },
   "source": [
    "## Slide types\n",
    "- Activate the slide type selection drop down by navigating to `View ► Cell Toolbar ► Slideshow`\n",
    "![slide types enable](./figures/slide_types_enable.png)"
   ]
  },
  {
   "cell_type": "markdown",
   "id": "b079c01f",
   "metadata": {
    "slideshow": {
     "slide_type": "subslide"
    }
   },
   "source": [
    "$\\rightarrow$ Each cell has now a \"Slide Type\" that can be changed\n",
    "![slide types select](./figures/slide_types_select.png)"
   ]
  },
  {
   "cell_type": "markdown",
   "id": "788736dd",
   "metadata": {
    "slideshow": {
     "slide_type": "subslide"
    }
   },
   "source": [
    "The following slide types exist\n",
    "- \"Skip\": Is not displayed e.g. framework code\n",
    "- \"Slide\": First cell of a new topic (animation goes to the right)\n",
    "- \"-\": Same slide but new cell, usful for code cells\n",
    "- \"Sub Slide\": First cell of a sub topic (animation goes to the bottom)\n",
    "- \"Fragment\": Same slide, but new content (adds to the bottom)\n",
    "- \"Notes\": Shown in the speaker view (if configured) and not displayed"
   ]
  },
  {
   "cell_type": "markdown",
   "id": "a14afdd0",
   "metadata": {
    "slideshow": {
     "slide_type": "slide"
    }
   },
   "source": [
    "## Example Slide\n",
    "- Some content"
   ]
  },
  {
   "cell_type": "markdown",
   "id": "d29d6b88",
   "metadata": {
    "slideshow": {
     "slide_type": "-"
    }
   },
   "source": [
    "- same slide but new cell"
   ]
  },
  {
   "cell_type": "code",
   "execution_count": null,
   "id": "39a0cdf2",
   "metadata": {
    "slideshow": {
     "slide_type": "-"
    }
   },
   "outputs": [],
   "source": [
    "# some code\n",
    "def do_nothing():\n",
    "    pass"
   ]
  },
  {
   "cell_type": "markdown",
   "id": "1e43e753",
   "metadata": {
    "slideshow": {
     "slide_type": "subslide"
    }
   },
   "source": [
    "### Subslide\n",
    "- more content"
   ]
  },
  {
   "cell_type": "markdown",
   "id": "21d08033",
   "metadata": {
    "slideshow": {
     "slide_type": "fragment"
    }
   },
   "source": [
    "- Fragment"
   ]
  },
  {
   "cell_type": "markdown",
   "id": "4cd95d64",
   "metadata": {
    "slideshow": {
     "slide_type": "slide"
    }
   },
   "source": [
    "## Convert Notebook to Static Slideshow with reveal.js\n",
    "Directly in your browser via `File ► Download as ► Reveal.js slides`\n",
    "![slide types enable](./figures/convert_in_browser.png)"
   ]
  },
  {
   "cell_type": "markdown",
   "id": "53939a6f",
   "metadata": {
    "slideshow": {
     "slide_type": "subslide"
    }
   },
   "source": [
    "### Speaker View\n",
    "If you want you can also generate a version with a speaker view with the following commands:\n",
    "\n",
    "In the same folder as `presentation.ipynb`\n",
    "1. `git clone https://github.com/hakimel/reveal.js.git`\n",
    "2. `jupyter nbconvert presentation.ipynb --to slides --reveal-prefix reveal.js`\n",
    "3. Press `S` to start the speaker view"
   ]
  },
  {
   "cell_type": "markdown",
   "id": "a0a7619d",
   "metadata": {
    "slideshow": {
     "slide_type": "slide"
    }
   },
   "source": [
    "### Live Code Execution with RISE\n",
    "Follow these steps to install the RISE extension to jupyter\n",
    "1. Create fresh virtual environment and activate it\n",
    "2. Install nbclassic and rise with `pip install nbclassic RISE`\n",
    "3. Start jupyter notebook using `python -m nbclassic`"
   ]
  },
  {
   "cell_type": "markdown",
   "id": "8d8f83a9",
   "metadata": {
    "slideshow": {
     "slide_type": "fragment"
    }
   },
   "source": [
    "When you open the presentation notebook you should have a button to enter a slideshow.\n",
    "\n",
    "![rise button](./figures/rise.png)"
   ]
  },
  {
   "cell_type": "markdown",
   "id": "b7b0d346",
   "metadata": {
    "slideshow": {
     "slide_type": "subslide"
    }
   },
   "source": [
    "## Example\n",
    "- Hidden cell below to import matplotlib and numpy:"
   ]
  },
  {
   "cell_type": "code",
   "execution_count": null,
   "id": "43f3dbf1",
   "metadata": {
    "slideshow": {
     "slide_type": "skip"
    }
   },
   "outputs": [],
   "source": [
    "# This cell is hidden in the presentation\n",
    "import matplotlib.pyplot as plt\n",
    "import numpy as np"
   ]
  },
  {
   "cell_type": "markdown",
   "id": "f4fb0e2f",
   "metadata": {
    "slideshow": {
     "slide_type": "-"
    }
   },
   "source": [
    "- Example plot:"
   ]
  },
  {
   "cell_type": "code",
   "execution_count": null,
   "id": "9e2891f4",
   "metadata": {
    "scrolled": false,
    "slideshow": {
     "slide_type": "-"
    }
   },
   "outputs": [],
   "source": [
    "x = np.linspace(0, 10, 1000)\n",
    "plt.plot(x, np.sin(x**2))\n",
    "plt.show()"
   ]
  },
  {
   "cell_type": "markdown",
   "id": "0e2633d8",
   "metadata": {
    "slideshow": {
     "slide_type": "subslide"
    }
   },
   "source": [
    "Things to remember before starting the presentation\n",
    "- Delete your cell output bevor you start the slide show\n",
    "- Run hidden code import or function definition cells"
   ]
  },
  {
   "cell_type": "markdown",
   "id": "e59b9369",
   "metadata": {
    "slideshow": {
     "slide_type": "slide"
    }
   },
   "source": [
    "## General Instructions\n",
    "- Create your presentations with this Jupyter notebook template\n",
    "- Create your plots with python code in the notebook\n",
    "  - You can import whatever library you like\n",
    "  - Don't forget to add a `requirements.txt` with your dependencies!\n",
    "- Commit and push your presentation notebook and all supplementary content to the linked git repository (we will check contribution)\n",
    "- Every group member needs to present a significant part of the 20 minute presentation\n",
    "- We will grade both the presentation and code used for plots etc. in your presentation\n",
    "- Respect the guidelines on canvas"
   ]
  },
  {
   "cell_type": "markdown",
   "id": "b19c2a9b",
   "metadata": {
    "slideshow": {
     "slide_type": "slide"
    }
   },
   "source": [
    "## Presentation Topics\n",
    "<dl>\n",
    "<dt>Expectation maximization</dt>\n",
    "<dd>4 People</dd>\n",
    "<dt>Self-organizing maps</dt>\n",
    "<dd>3 People</dd>\n",
    "<dt>t-distributed stochastic neighbor embedding</dt>\n",
    "<dd>3 People</dd>\n",
    "</dl>"
   ]
  },
  {
   "cell_type": "markdown",
   "id": "c3c46d0f",
   "metadata": {
    "slideshow": {
     "slide_type": "slide"
    }
   },
   "source": [
    "### [EM for Mixtures of Gaussians](https://gitos.rrze.fau.de/utn-machine-intelligence/teaching/ml-ws2324-lu6-student-presentations/em-for-mixtures-of-gaussians)\n",
    "\n",
    "**You should explain**\n",
    "- What are mixtures of Gaussians and what are they used for?\n",
    "- What is the relationship between EM and k-Means?\n",
    "- Why does EM converge?"
   ]
  },
  {
   "cell_type": "markdown",
   "id": "f025accf",
   "metadata": {
    "slideshow": {
     "slide_type": "subslide"
    }
   },
   "source": [
    "### EM for Mixtures of Gaussians\n",
    "**Hints**\n",
    "- Provide a visual example for mixtures of Gaussians.\n",
    "- Explain why standard MLE is not applicable and why EM is required. First present the general version of the EM algorithm with latent variables (Bis07, 9.3) and then show the specific case for mixtures of Gaussians. Explain why latent variables are helpful.\n",
    "- Provide an intuition of the proof for EM. You do not need to cover all details (Bis07, 9.4)."
   ]
  },
  {
   "cell_type": "markdown",
   "id": "1694f251",
   "metadata": {
    "slideshow": {
     "slide_type": "subslide"
    }
   },
   "source": [
    "### EM for Mixtures of Gaussians\n",
    "**Bibliography**\n",
    "<div class=\"csl-bib-body\" style=\"line-height: 1.35; \">\n",
    "<div class=\"csl-entry\" style=\"clear: left; \">\n",
    "<div class=\"csl-left-margin\" style=\"float: left; padding-right: 0.5em;text-align: right; width: 1em;\">[1]</div>\n",
    "<div class=\"csl-right-inline\" style=\"margin: 0 .4em 0 1.5em;\">C. M. Bishop and N. M. Nasrabadi, <i>Pattern recognition and machine learning</i>, vol. 4. Springer, 2006. Accessed: Jan. 08, 2024. [Online]. Available: <a href=\"https://link.springer.com/book/9780387310732\">https://link.springer.com/book/9780387310732</a></div>\n",
    "<span class=\"Z3988\" title=\"url_ver=Z39.88-2004&amp;ctx_ver=Z39.88-2004&amp;rfr_id=info%3Asid%2Fzotero.org%3A2&amp;rft_val_fmt=info%3Aofi%2Ffmt%3Akev%3Amtx%3Abook&amp;rft.genre=book&amp;rft.btitle=Pattern%20recognition%20and%20machine%20learning&amp;rft.publisher=Springer&amp;rft.aufirst=Christopher%20M.&amp;rft.aulast=Bishop&amp;rft.au=Christopher%20M.%20Bishop&amp;rft.au=Nasser%20M.%20Nasrabadi&amp;rft.date=2006\"></span> (sections 9.2 - 9.4)"
   ]
  },
  {
   "cell_type": "markdown",
   "id": "a042292a",
   "metadata": {
    "slideshow": {
     "slide_type": "slide"
    }
   },
   "source": [
    "### [Self-Organizing Maps](https://gitos.rrze.fau.de/utn-machine-intelligence/teaching/ml-ws2324-lu6-student-presentations/self-organizing-maps)\n",
    "\n",
    "**You should explain**\n",
    "- What does the SoM algorithm do?\n",
    "- What is it used for?\n",
    "- What are its advantages and disadvantages?\n",
    "- Why is the weight initialization critical? What are typical ways to initialize the weights of the map?"
   ]
  },
  {
   "cell_type": "markdown",
   "id": "eba32456",
   "metadata": {
    "slideshow": {
     "slide_type": "subslide"
    }
   },
   "source": [
    "### Self-Organizing Maps\n",
    "**Hints**\n",
    "- Explain the high level idea of this discrete dimension reduction method.\n",
    "- Show how SoM structures look like\n",
    "- Explain both the training and inference algorithm in an intuitive way."
   ]
  },
  {
   "cell_type": "markdown",
   "id": "56f60781",
   "metadata": {
    "slideshow": {
     "slide_type": "subslide"
    }
   },
   "source": [
    "### Self-Organizing Maps\n",
    "**Basic Literature**\n",
    "<div class=\"csl-bib-body\" style=\"line-height: 1.35; \">\n",
    "  <div class=\"csl-entry\" style=\"clear: left; \">\n",
    "    <div class=\"csl-left-margin\" style=\"float: left; padding-right: 0.5em;text-align: right; width: 1em;\">[2]</div><div class=\"csl-right-inline\" style=\"margin: 0 .4em 0 1.5em;\">T. Kohonen, “Automatic formation of topological maps of patterns in a self-organizing system,” in <i>Proceedings of the 2nd scandinavian Conference on Image Analysis</i>, 1981.</div>\n",
    "  </div>\n",
    "  <span class=\"Z3988\" title=\"url_ver=Z39.88-2004&amp;ctx_ver=Z39.88-2004&amp;rfr_id=info%3Asid%2Fzotero.org%3A2&amp;rft_val_fmt=info%3Aofi%2Ffmt%3Akev%3Amtx%3Abook&amp;rft.genre=proceeding&amp;rft.atitle=Automatic%20formation%20of%20topological%20maps%20of%20patterns%20in%20a%20self-organizing%20system&amp;rft.btitle=Proceedings%20of%20the%202nd%20scandinavian%20Conference%20on%20Image%20Analysis&amp;rft.aufirst=Teuvo&amp;rft.aulast=Kohonen&amp;rft.au=Teuvo%20Kohonen&amp;rft.date=1981\"></span>\n",
    "  <div class=\"csl-entry\" style=\"clear: left; \">\n",
    "    <div class=\"csl-left-margin\" style=\"float: left; padding-right: 0.5em;text-align: right; width: 1em;\">[3]</div><div class=\"csl-right-inline\" style=\"margin: 0 .4em 0 1.5em;\">T. Kohonen and T. Honkela, “Kohonen network,” <i>Scholarpedia</i>, vol. 2, no. 1, p. 1568, Jan. 2007, doi: <a href=\"https://doi.org/10.4249/scholarpedia.1568\">10.4249/scholarpedia.1568</a>.</div>\n",
    "  </div>\n",
    "  <span class=\"Z3988\" title=\"url_ver=Z39.88-2004&amp;ctx_ver=Z39.88-2004&amp;rfr_id=info%3Asid%2Fzotero.org%3A2&amp;rft_id=info%3Adoi%2F10.4249%2Fscholarpedia.1568&amp;rft_val_fmt=info%3Aofi%2Ffmt%3Akev%3Amtx%3Ajournal&amp;rft.genre=article&amp;rft.atitle=Kohonen%20network&amp;rft.jtitle=Scholarpedia&amp;rft.volume=2&amp;rft.issue=1&amp;rft.aufirst=Teuvo&amp;rft.aulast=Kohonen&amp;rft.au=Teuvo%20Kohonen&amp;rft.au=Timo%20Honkela&amp;rft.date=2007-01-18&amp;rft.pages=1568&amp;rft.issn=1941-6016&amp;rft.language=en\"></span>\n",
    "  <div class=\"csl-entry\" style=\"clear: left; \">\n",
    "    <div class=\"csl-left-margin\" style=\"float: left; padding-right: 0.5em;text-align: right; width: 1em;\">[4]</div><div class=\"csl-right-inline\" style=\"margin: 0 .4em 0 1.5em;\">T. Kohonen, “The self-organizing map,” <i>Proceedings of the IEEE</i>, vol. 78, no. 9, pp. 1464–1480, 1990.</div>\n",
    "  </div>\n",
    "  <span class=\"Z3988\" title=\"url_ver=Z39.88-2004&amp;ctx_ver=Z39.88-2004&amp;rfr_id=info%3Asid%2Fzotero.org%3A2&amp;rft_val_fmt=info%3Aofi%2Ffmt%3Akev%3Amtx%3Ajournal&amp;rft.genre=article&amp;rft.atitle=The%20self-organizing%20map&amp;rft.jtitle=Proceedings%20of%20the%20IEEE&amp;rft.volume=78&amp;rft.issue=9&amp;rft.aufirst=Teuvo&amp;rft.aulast=Kohonen&amp;rft.au=Teuvo%20Kohonen&amp;rft.date=1990&amp;rft.pages=1464%E2%80%931480&amp;rft.spage=1464&amp;rft.epage=1480\"></span>\n",
    "</div>"
   ]
  },
  {
   "cell_type": "markdown",
   "id": "ab509074",
   "metadata": {
    "slideshow": {
     "slide_type": "slide"
    }
   },
   "source": [
    "### [t-SNE](https://gitos.rrze.fau.de/utn-machine-intelligence/teaching/ml-ws2324-lu6-student-presentations/t-sne)\n",
    "**You should explain**\n",
    "- What is the KL-divergence?\n",
    "- What are the two distributions whose KL-divergence we want to minimize?\n",
    "- What are the differences between t-SNE and SNE? "
   ]
  },
  {
   "cell_type": "markdown",
   "id": "ba27b7be",
   "metadata": {
    "slideshow": {
     "slide_type": "subslide"
    }
   },
   "source": [
    "### t-SNE\n",
    "**Hints**\n",
    "- Make a visualization of the KL-divergence.\n",
    "- Explain how t-SNE improves SNE.\n",
    "- Provide an intuition for why the t-distribution is more appropriate than the gaussian it replaces."
   ]
  },
  {
   "cell_type": "markdown",
   "id": "d42abc09",
   "metadata": {
    "slideshow": {
     "slide_type": "subslide"
    }
   },
   "source": [
    "### t-SNE\n",
    "**Bibliography**\n",
    "<div class=\"csl-bib-body\" style=\"line-height: 1.35; \">\n",
    "  <div class=\"csl-entry\" style=\"clear: left; \">\n",
    "    <div class=\"csl-left-margin\" style=\"float: left; padding-right: 0.5em;text-align: right; width: 1em;\">[5]</div><div class=\"csl-right-inline\" style=\"margin: 0 .4em 0 1.5em;\">G. E. Hinton and S. Roweis, “Stochastic neighbor embedding,” <i>Advances in neural information processing systems</i>, vol. 15, 2002, Accessed: Jan. 08, 2024. [Online]. Available: <a href=\"https://proceedings.neurips.cc/paper_files/paper/2002/hash/6150ccc6069bea6b5716254057a194ef-Abstract.html\">https://proceedings.neurips.cc/paper_files/paper/2002/hash/6150ccc6069bea6b5716254057a194ef-Abstract.html</a></div>\n",
    "  </div>\n",
    "  <span class=\"Z3988\" title=\"url_ver=Z39.88-2004&amp;ctx_ver=Z39.88-2004&amp;rfr_id=info%3Asid%2Fzotero.org%3A2&amp;rft_val_fmt=info%3Aofi%2Ffmt%3Akev%3Amtx%3Ajournal&amp;rft.genre=article&amp;rft.atitle=Stochastic%20neighbor%20embedding&amp;rft.jtitle=Advances%20in%20neural%20information%20processing%20systems&amp;rft.volume=15&amp;rft.aufirst=Geoffrey%20E.&amp;rft.aulast=Hinton&amp;rft.au=Geoffrey%20E.%20Hinton&amp;rft.au=Sam%20Roweis&amp;rft.date=2002\"></span>\n",
    "  <div class=\"csl-entry\" style=\"clear: left; \">\n",
    "    <div class=\"csl-left-margin\" style=\"float: left; padding-right: 0.5em;text-align: right; width: 1em;\">[6]</div><div class=\"csl-right-inline\" style=\"margin: 0 .4em 0 1.5em;\">L. Van der Maaten and G. Hinton, “Visualizing data using t-SNE.,” <i>Journal of machine learning research</i>, vol. 9, no. 11, 2008, Accessed: Jan. 08, 2024. [Online]. Available: <a href=\"https://www.jmlr.org/papers/volume9/vandermaaten08a/vandermaaten08a.pdf?fbcl\">https://www.jmlr.org/papers/volume9/vandermaaten08a/vandermaaten08a.pdf?fbcl</a></div>\n",
    "  </div>\n",
    "  <span class=\"Z3988\" title=\"url_ver=Z39.88-2004&amp;ctx_ver=Z39.88-2004&amp;rfr_id=info%3Asid%2Fzotero.org%3A2&amp;rft_val_fmt=info%3Aofi%2Ffmt%3Akev%3Amtx%3Ajournal&amp;rft.genre=article&amp;rft.atitle=Visualizing%20data%20using%20t-SNE.&amp;rft.jtitle=Journal%20of%20machine%20learning%20research&amp;rft.volume=9&amp;rft.issue=11&amp;rft.aufirst=Laurens&amp;rft.aulast=Van%20der%20Maaten&amp;rft.au=Laurens%20Van%20der%20Maaten&amp;rft.au=Geoffrey%20Hinton&amp;rft.date=2008\"></span>\n",
    "</div>"
   ]
  }
 ],
 "metadata": {
  "celltoolbar": "Slideshow",
  "kernelspec": {
   "display_name": "Python 3 (ipykernel)",
   "language": "python",
   "name": "python3"
  },
  "language_info": {
   "codemirror_mode": {
    "name": "ipython",
    "version": 3
   },
   "file_extension": ".py",
   "mimetype": "text/x-python",
   "name": "python",
   "nbconvert_exporter": "python",
   "pygments_lexer": "ipython3",
   "version": "3.9.12"
  },
  "vscode": {
   "interpreter": {
    "hash": "de5b31044833cea9ee377c5b8455b5e41e391cda0b415044581a804fd2c5baa8"
   }
  },
  "widgets": {
   "application/vnd.jupyter.widget-state+json": {
    "state": {},
    "version_major": 1,
    "version_minor": 0
   }
  }
 },
 "nbformat": 4,
 "nbformat_minor": 5
}
